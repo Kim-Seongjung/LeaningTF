{
 "cells": [
  {
   "cell_type": "code",
   "execution_count": null,
   "metadata": {
    "collapsed": true
   },
   "outputs": [],
   "source": [
    "import tensorflow as tf \n",
    "import numpy as np\n"
   ]
  },
  {
   "cell_type": "code",
   "execution_count": null,
   "metadata": {
    "collapsed": true
   },
   "outputs": [],
   "source": [
    "x=tf.placeholder(tf.float32 , shape=[2,2])\n",
    "v_x=tf.Variable(initial_value =0 , dtype = tf.float32)\n",
    "y=x[0,0]+v_x"
   ]
  },
  {
   "cell_type": "code",
   "execution_count": null,
   "metadata": {
    "collapsed": true
   },
   "outputs": [],
   "source": [
    "sess = tf.Session()\n",
    "init = tf.initialize_all_variables()\n",
    "sess.run(init)\n",
    "v_x.eval(session=sess)\n",
    "\n",
    "\n",
    "#make matrix\n",
    "sample_mat= np.ndarray(shape=[2,2])\n",
    "sample_mat[0,0]=0\n",
    "sample_mat[0,1]=1\n",
    "sample_mat[1,0]=2\n",
    "sample_mat[1,1]=3\n",
    "\n",
    "print sample_mat\n",
    "sess.run(y , feed_dict={x:sample_mat})"
   ]
  }
 ],
 "metadata": {
  "kernelspec": {
   "display_name": "Python 2",
   "language": "python",
   "name": "python2"
  },
  "language_info": {
   "codemirror_mode": {
    "name": "ipython",
    "version": 2
   },
   "file_extension": ".py",
   "mimetype": "text/x-python",
   "name": "python",
   "nbconvert_exporter": "python",
   "pygments_lexer": "ipython2",
   "version": "2.7.12"
  }
 },
 "nbformat": 4,
 "nbformat_minor": 0
}
