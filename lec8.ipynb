{
 "cells": [
  {
   "cell_type": "code",
   "execution_count": null,
   "metadata": {
    "collapsed": true
   },
   "outputs": [],
   "source": [
    "# with tf.control_dependencies([x_op]):"
   ]
  },
  {
   "cell_type": "code",
   "execution_count": 1,
   "metadata": {
    "collapsed": false
   },
   "outputs": [],
   "source": [
    "\n",
    "\n",
    "import tensorflow as tf\n",
    "import numpy as np\n",
    "\n",
    "\n"
   ]
  },
  {
   "cell_type": "code",
   "execution_count": null,
   "metadata": {
    "collapsed": true
   },
   "outputs": [],
   "source": [
    "\n",
    "\n"
   ]
  },
  {
   "cell_type": "code",
   "execution_count": 2,
   "metadata": {
    "collapsed": false
   },
   "outputs": [
    {
     "name": "stdout",
     "output_type": "stream",
     "text": [
      "WARNING:tensorflow:From <ipython-input-2-267381482403>:6 in <module>.: initialize_all_variables (from tensorflow.python.ops.variables) is deprecated and will be removed after 2017-03-02.\n",
      "Instructions for updating:\n",
      "Use `tf.global_variables_initializer` instead.\n",
      "0.0\n",
      "0.0\n",
      "0.0\n",
      "0.0\n",
      "0.0\n"
     ]
    }
   ],
   "source": [
    "x = tf.Variable(0.0)\n",
    "x_plus_1 = tf.assign_add(x, 1)\n",
    "\n",
    "with tf.control_dependencies([x_plus_1]):\n",
    "    y = x\n",
    "init = tf.initialize_all_variables()\n",
    "\n",
    "with tf.Session() as session:\n",
    "    init.run()\n",
    "    for i in xrange(5):\n",
    "        print(y.eval())"
   ]
  },
  {
   "cell_type": "code",
   "execution_count": 4,
   "metadata": {
    "collapsed": false
   },
   "outputs": [
    {
     "name": "stdout",
     "output_type": "stream",
     "text": [
      "WARNING:tensorflow:From <ipython-input-4-afa30a475421>:6 in <module>.: initialize_all_variables (from tensorflow.python.ops.variables) is deprecated and will be removed after 2017-03-02.\n",
      "Instructions for updating:\n",
      "Use `tf.global_variables_initializer` instead.\n",
      "1.0\n",
      "2.0\n",
      "3.0\n",
      "4.0\n",
      "5.0\n"
     ]
    }
   ],
   "source": [
    "x = tf.Variable(0.0)\n",
    "x_plus_1 = tf.assign_add(x, 1)\n",
    "\n",
    "with tf.control_dependencies([x_plus_1]):\n",
    "    y = tf.identity(x)\n",
    "init = tf.initialize_all_variables()\n",
    "\n",
    "with tf.Session() as session:\n",
    "    init.run()\n",
    "    for i in xrange(5):\n",
    "        print(y.eval())"
   ]
  },
  {
   "cell_type": "code",
   "execution_count": 3,
   "metadata": {
    "collapsed": false
   },
   "outputs": [
    {
     "ename": "NameError",
     "evalue": "name 'cocontrol_flow_ops' is not defined",
     "output_type": "error",
     "traceback": [
      "\u001b[0;31m----------------------------------------------------------------------\u001b[0m",
      "\u001b[0;31mNameError\u001b[0m                            Traceback (most recent call last)",
      "\u001b[0;32m<ipython-input-3-b28f6e159352>\u001b[0m in \u001b[0;36m<module>\u001b[0;34m()\u001b[0m\n\u001b[1;32m      6\u001b[0m     \u001b[0mfalse_fun\u001b[0m \u001b[0;34m=\u001b[0m \u001b[0;32mlambda\u001b[0m\u001b[0;34m:\u001b[0m \u001b[0mtf\u001b[0m\u001b[0;34m.\u001b[0m\u001b[0mconstant\u001b[0m\u001b[0;34m(\u001b[0m\u001b[0;34m[\u001b[0m\u001b[0;34m]\u001b[0m\u001b[0;34m)\u001b[0m\u001b[0;34m\u001b[0m\u001b[0m\n\u001b[1;32m      7\u001b[0m     \u001b[0mpred\u001b[0m \u001b[0;34m=\u001b[0m \u001b[0mtf\u001b[0m\u001b[0;34m.\u001b[0m\u001b[0mconstant\u001b[0m\u001b[0;34m(\u001b[0m\u001b[0mTrue\u001b[0m\u001b[0;34m)\u001b[0m\u001b[0;34m\u001b[0m\u001b[0m\n\u001b[0;32m----> 8\u001b[0;31m     \u001b[0mcocontrol_flow_ops\u001b[0m\u001b[0;34m.\u001b[0m\u001b[0mcond\u001b[0m\u001b[0;34m(\u001b[0m\u001b[0mpred\u001b[0m\u001b[0;34m,\u001b[0m \u001b[0mtrue_fun\u001b[0m\u001b[0;34m,\u001b[0m \u001b[0mfalse_fun\u001b[0m\u001b[0;34m)\u001b[0m\u001b[0;34m\u001b[0m\u001b[0m\n\u001b[0m",
      "\u001b[0;31mNameError\u001b[0m: name 'cocontrol_flow_ops' is not defined"
     ]
    }
   ],
   "source": [
    "x = tf.Variable(0.)\n",
    "x_op = tf.assign(x, 1.)\n",
    "\n",
    "with tf.control_dependencies([x_op]):\n",
    "    true_fun  = lambda: tf.assign_add(x, 3.)\n",
    "    false_fun = lambda: tf.constant([])\n",
    "    pred = tf.constant(True)\n",
    "    cocontrol_flow_ops.cond(pred, true_fun, false_fun)"
   ]
  },
  {
   "cell_type": "code",
   "execution_count": null,
   "metadata": {
    "collapsed": true
   },
   "outputs": [],
   "source": [
    "\n",
    "\n",
    "with tf.control_dependencies([loss_averages_op]):\n",
    "  total_loss = tf.identity(total_loss)\n"
   ]
  },
  {
   "cell_type": "code",
   "execution_count": null,
   "metadata": {
    "collapsed": true
   },
   "outputs": [],
   "source": [
    "\n",
    "down vote\n",
    "\t\n",
    "\n",
    "I came across another use case that is not completely covered by the other answers.\n",
    "\n",
    "def conv_layer(input_tensor, kernel_shape, output_dim, layer_name, decay=None, act=tf.nn.relu):\n",
    "    \"\"\"Reusable code for making a simple convolutional layer.\n",
    "    \"\"\"\n",
    "    # Adding a name scope ensures logical grouping of the layers in the graph.\n",
    "    with tf.name_scope(layer_name):\n",
    "        # This Variable will hold the state of the weights for the layer\n",
    "        with tf.name_scope('weights'):\n",
    "            weights = weight_variable(kernel_shape, decay)\n",
    "            variable_summaries(weights, layer_name + '/weights')\n",
    "        with tf.name_scope('biases'):\n",
    "            biases = bias_variable([output_dim])\n",
    "            variable_summaries(biases, layer_name + '/biases')\n",
    "        with tf.name_scope('convolution'):\n",
    "            preactivate = tf.nn.conv2d(input_tensor, weights, strides=[1, 1, 1, 1], padding='SAME')\n",
    "            biased = tf.nn.bias_add(preactivate, biases)\n",
    "            tf.histogram_summary(layer_name + '/pre_activations', biased)\n",
    "        activations = act(biased, 'activation')\n",
    "        tf.histogram_summary(layer_name + '/activations', activations)\n",
    "        return activations\n"
   ]
  },
  {
   "cell_type": "code",
   "execution_count": null,
   "metadata": {
    "collapsed": true
   },
   "outputs": [],
   "source": [
    "http://stackoverflow.com/questions/41780655/difference-between-tf-group-and-tf-control-dependencies"
   ]
  },
  {
   "cell_type": "code",
   "execution_count": null,
   "metadata": {
    "collapsed": true
   },
   "outputs": [],
   "source": [
    "c=tf.group(a, b) #produces the same graph below that using cotrol_dependencies\n",
    "\n",
    "with tf.control_dependencies([a, b]):\n",
    "    c = tf.no_op() \n"
   ]
  },
  {
   "cell_type": "markdown",
   "metadata": {},
   "source": [
    "###### 1\n",
    "down vote\n",
    "favorite\n",
    "2\n",
    "\t\n",
    "\n",
    "Is it possible to create a control dependency between two ops after they've both been created? I realize that with tf.control_dependencies it's possible to make one op wait on another before executing, but the dependent op has to be created within the tf.control_dependencies context. I'd like to construct the two ops independently first and then add the dependency.\n"
   ]
  },
  {
   "cell_type": "markdown",
   "metadata": {},
   "source": [
    "###### what is Context Manager ?"
   ]
  },
  {
   "cell_type": "markdown",
   "metadata": {},
   "source": [
    "###### 위 코드에서 A는 with 블럭이 시작되는 시점에 A.enter()를 호출하고, 블럭이 끝나는 시점에 A.exit()를 호출한다. 만약 블럭 내에서 예외가 발생하여 블럭의 실행이 중지되고 빠져나오는 시점에도 A.exit()가 호출되는 것이 보장된다.\n",
    "\n",
    "예를 들어 파일을 열어서 어떤 내용을 처리하고 파일을 닫는 동작을 수행할 때, 컨텍스트 매니저가 파일을 열고, 닫는 동작을 정의한다면, with 구문에서는 이를 컨텍스트 매니저(이 경우에는 파일 디스크립터)에게 이러한 동작을 위임하고 실제 데이터를 처리하는 코드만 작성할 수 있"
   ]
  },
  {
   "cell_type": "code",
   "execution_count": null,
   "metadata": {
    "collapsed": true
   },
   "outputs": [],
   "source": [
    "with g.control_dependencies([a, b]):\n",
    "  # Ops constructed here run after `a` and `b`.\n",
    "  with g.control_dependencies(None):\n",
    "    # Ops constructed here run normally, not waiting for either `a` or `b`.\n",
    "    with g.control_dependencies([c, d]):\n",
    "      # Ops constructed here run after `c` and `d`, also not waiting\n",
    "      # for either `a` or `b`.\n"
   ]
  },
  {
   "cell_type": "code",
   "execution_count": null,
   "metadata": {
    "collapsed": true
   },
   "outputs": [],
   "source": [
    "# WRONG\n",
    "def my_func(pred, tensor):\n",
    "  t = tf.matmul(tensor, tensor)\n",
    "  with tf.control_dependencies([pred]):\n",
    "    # The matmul op is created outside the context, so no control\n",
    "    # dependency will be added.\n",
    "    return t\n",
    "\n",
    "# RIGHT\n",
    "def my_func(pred, tensor):\n",
    "  with tf.control_dependencies([pred]):\n",
    "    # The matmul op is created in the context, so a control dependency\n",
    "    # will be added.\n",
    "    return tf.matmul(tensor, tensor)\n"
   ]
  }
 ],
 "metadata": {
  "kernelspec": {
   "display_name": "Python 2",
   "language": "python",
   "name": "python2"
  },
  "language_info": {
   "codemirror_mode": {
    "name": "ipython",
    "version": 2
   },
   "file_extension": ".py",
   "mimetype": "text/x-python",
   "name": "python",
   "nbconvert_exporter": "python",
   "pygments_lexer": "ipython2",
   "version": "2.7.6"
  }
 },
 "nbformat": 4,
 "nbformat_minor": 1
}
