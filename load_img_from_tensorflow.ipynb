{
 "cells": [
  {
   "cell_type": "markdown",
   "metadata": {},
   "source": [
    "# load_img_from_tensorflow"
   ]
  },
  {
   "cell_type": "code",
   "execution_count": 45,
   "metadata": {
    "collapsed": false
   },
   "outputs": [
    {
     "name": "stdout",
     "output_type": "stream",
     "text": [
      "(256, 256, 3)\n",
      "[256, 256, 3]\n",
      "[256, 256, 3]\n",
      "[256, 256, 3]\n",
      "[1, 51, 51, 27]\n",
      "[1, 51, 51, 27]\n",
      "(51, 51, 1)\n",
      "(256, 256, 3)\n",
      "(51, 51, 3)\n"
     ]
    }
   ],
   "source": [
    "from scipy import misc\n",
    "import tensorflow as tf\n",
    "import numpy as np \n",
    "path='/home/ncc/Desktop/girl.jpg'\n",
    "img = misc.imread(path)\n",
    "np_img=np.array(img)\n",
    "expanded_img=np.expand_dims(np_img , axis =0)\n",
    "print img.shape    # (32, 32, 3)\n",
    "\n",
    "img_tf = tf.Variable(img)\n",
    "expanded_img_tf = tf.Variable(expanded_img)\n",
    "reverse_tf=tf.reverse(img_tf , dims=[False, True , False ] )\n",
    "#expanded_img = tf.expand_dims(img_tf , axis=0)\n",
    "extracted_img_1=tf.extract_image_patches(expanded_img_tf, ksizes=[1, 3, 3, 1], strides=[1, 5, 5, 1], rates=[1, 1, 1, 1], padding='VALID')\n",
    "extracted_img_2=tf.extract_image_patches(expanded_img_tf, ksizes=[1, 3, 3, 1], strides=[1, 5, 5, 1], rates=[1, 1, 1, 1], padding='VALID')\n",
    "print img_tf.get_shape().as_list()  # [32, 32, 3]\n",
    "print reverse_tf.get_shape().as_list()  # [32, 32, 3]\n",
    "print img_tf.get_shape().as_list()  # [32, 32, 3]\n",
    "print extracted_img_1.get_shape().as_list()  # [32, 32, 3]\n",
    "print extracted_img_2.get_shape().as_list()  # [32, 32, 3]\n",
    "\n",
    "init = tf.initialize_all_variables()\n",
    "sess = tf.Session()\n",
    "sess.run(init)\n",
    "im = sess.run(img_tf)\n",
    "rev_img = sess.run(reverse_tf)\n",
    "ext_img = sess.run(extracted_img_1)\n",
    "print np.shape(ext_img[0][:,:,0:1])\n",
    "extracted_img_1=ext_img[0][:,:,0:3] \n",
    "extracted_img_2=ext_img[0][:,:,1:2] \n",
    "print np.shape(im)\n",
    "print np.shape(extracted_img_1)\n",
    "import matplotlib.pyplot as plt\n",
    "fig = plt.figure()\n",
    "fig.add_subplot(1,3,1)\n",
    "plt.imshow(im)\n",
    "fig.add_subplot(1,3,2)\n",
    "plt.imshow(extracted_img_1)\n",
    "plt.show()\n"
   ]
  },
  {
   "cell_type": "code",
   "execution_count": null,
   "metadata": {
    "collapsed": true
   },
   "outputs": [],
   "source": [
    "from scipy import misc\n",
    "import tensorflow as tf\n",
    "path='/home/ncc/Desktop/girl.jpg'\n",
    "img = misc.imread(path)\n",
    "print img.shape    # (32, 32, 3)\n",
    "\n",
    "img_tf = tf.Variable(img)\n",
    "reverse_tf=tf.reverse(img_tf , dims=[False, True , False ] )\n",
    "\n",
    "print img_tf.get_shape().as_list()  # [32, 32, 3]\n",
    "print reverse_tf.get_shape().as_list()  # [32, 32, 3]\n",
    "\n",
    "init = tf.initialize_all_variables()\n",
    "sess = tf.Session()\n",
    "sess.run(init)\n",
    "im = sess.run(img_tf)\n",
    "rev_img = sess.run(reverse_tf)\n",
    "\n",
    "import matplotlib.pyplot as plt\n",
    "fig = plt.figure()\n",
    "fig.add_subplot(1,2,1)\n",
    "plt.imshow(im)\n",
    "fig.add_subplot(1,2,2)\n",
    "plt.imshow(rev_img)\n",
    "plt.show()"
   ]
  }
 ],
 "metadata": {
  "kernelspec": {
   "display_name": "Python 2",
   "language": "python",
   "name": "python2"
  },
  "language_info": {
   "codemirror_mode": {
    "name": "ipython",
    "version": 2
   },
   "file_extension": ".py",
   "mimetype": "text/x-python",
   "name": "python",
   "nbconvert_exporter": "python",
   "pygments_lexer": "ipython2",
   "version": "2.7.12"
  }
 },
 "nbformat": 4,
 "nbformat_minor": 0
}
