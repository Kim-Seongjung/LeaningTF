{
 "cells": [
  {
   "cell_type": "code",
   "execution_count": 20,
   "metadata": {
    "collapsed": true
   },
   "outputs": [],
   "source": [
    "import tensorflow as tf\n",
    "import matplotlib.pyplot as plt\n",
    "import numpy as np\n",
    "from PIL import Image "
   ]
  },
  {
   "cell_type": "code",
   "execution_count": null,
   "metadata": {
    "collapsed": true
   },
   "outputs": [],
   "source": []
  },
  {
   "cell_type": "code",
   "execution_count": 29,
   "metadata": {
    "collapsed": false
   },
   "outputs": [
    {
     "name": "stdout",
     "output_type": "stream",
     "text": [
      "(?, 3)\n",
      "(1, ?)\n"
     ]
    }
   ],
   "source": [
    "x=tf.placeholder(tf.float32 , shape=[2,2])\n",
    "x_images = tf.placeholder(tf.float32 , shape=[None , 3])\n",
    "x2 = tf.placeholder(tf.int32 , shape=[1,None])\n",
    "print x_images.get_shape()\n",
    "#f=tf.Variable(x_images)\n",
    "print x2.get_shape()\n",
    "\n",
    "v_x=tf.Variable(3 , dtype = tf.float32)\n",
    "\n",
    "y= x[0,0]+1\n",
    "a=np.ndarray(shape=[2,2])\n",
    "a[0,0]=0\n",
    "a[0,1]=1\n",
    "a[1,0]=2\n",
    "a[1,1]=3"
   ]
  },
  {
   "cell_type": "code",
   "execution_count": null,
   "metadata": {
    "collapsed": true
   },
   "outputs": [],
   "source": []
  },
  {
   "cell_type": "code",
   "execution_count": 4,
   "metadata": {
    "collapsed": false
   },
   "outputs": [
    {
     "name": "stdout",
     "output_type": "stream",
     "text": [
      "[[ 0.  1.]\n",
      " [ 2.  3.]]\n",
      "<class 'tensorflow.python.framework.ops.Tensor'>\n",
      "a\n",
      "(2, 2)\n"
     ]
    }
   ],
   "source": [
    "print a\n",
    "print type(x)\n",
    "if type(x).__module__ == 'tensorflow.python.framework.ops':\n",
    "    print 'a'\n",
    "if type(x)=='tensor':\n",
    "    print 'b'\n",
    "print x.get_shape()\n",
    "    "
   ]
  },
  {
   "cell_type": "code",
   "execution_count": null,
   "metadata": {
    "collapsed": true
   },
   "outputs": [],
   "source": []
  },
  {
   "cell_type": "code",
   "execution_count": null,
   "metadata": {
    "collapsed": true
   },
   "outputs": [],
   "source": [
    "sess=tf.Session()\n",
    "init = tf.initialize_all_variables()"
   ]
  },
  {
   "cell_type": "code",
   "execution_count": 17,
   "metadata": {
    "collapsed": false
   },
   "outputs": [
    {
     "data": {
      "text/plain": [
       "1.0"
      ]
     },
     "execution_count": 17,
     "metadata": {},
     "output_type": "execute_result"
    }
   ],
   "source": [
    "sess.run(init)\n",
    "sess.run(y , feed_dict={x:a})"
   ]
  },
  {
   "cell_type": "code",
   "execution_count": null,
   "metadata": {
    "collapsed": true
   },
   "outputs": [],
   "source": []
  }
 ],
 "metadata": {
  "kernelspec": {
   "display_name": "Python 2",
   "language": "python",
   "name": "python2"
  },
  "language_info": {
   "codemirror_mode": {
    "name": "ipython",
    "version": 2
   },
   "file_extension": ".py",
   "mimetype": "text/x-python",
   "name": "python",
   "nbconvert_exporter": "python",
   "pygments_lexer": "ipython2",
   "version": "2.7.12"
  }
 },
 "nbformat": 4,
 "nbformat_minor": 0
}
